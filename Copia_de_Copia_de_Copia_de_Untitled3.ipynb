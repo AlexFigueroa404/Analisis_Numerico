{
  "nbformat": 4,
  "nbformat_minor": 0,
  "metadata": {
    "colab": {
      "name": "Copia de Copia_de_Copia_de_Untitled3.ipynb",
      "provenance": [],
      "collapsed_sections": [],
      "include_colab_link": true
    },
    "kernelspec": {
      "name": "python3",
      "display_name": "Python 3"
    },
    "language_info": {
      "name": "python"
    }
  },
  "cells": [
    {
      "cell_type": "markdown",
      "metadata": {
        "id": "view-in-github",
        "colab_type": "text"
      },
      "source": [
        "<a href=\"https://colab.research.google.com/github/AlexFigueroa404/Analisis_Numerico/blob/Daniela/Copia_de_Copia_de_Copia_de_Untitled3.ipynb\" target=\"_parent\"><img src=\"https://colab.research.google.com/assets/colab-badge.svg\" alt=\"Open In Colab\"/></a>"
      ]
    },
    {
      "cell_type": "code",
      "execution_count": null,
      "metadata": {
        "id": "OJRwZ3WN3Uy3",
        "colab": {
          "base_uri": "https://localhost:8080/",
          "height": 764
        },
        "outputId": "f3a119a2-ff60-40da-be40-2ba895e7dcc0"
      },
      "outputs": [
        {
          "output_type": "stream",
          "name": "stdout",
          "text": [
            "Metodo de Bisseccion\n",
            "\n",
            "De la funcion a resolver: e**x-x**2+3*x-2\n",
            "de el extremo inferior del intervalo aproximado: 0\n",
            "de el extremo superior del intervalo aproximado: 2\n",
            "De el error deseado: 0.05\n",
            "Tolerancia: 0.0001\n",
            "n\ta\tb\tXr\tf(Mx)f(a)\n",
            "1 \t0.0\t2.0\t1.0\t-2.718\n",
            "2 \t0.0\t1.0\t0.5\t-0.8987\n",
            "3 \t0.0\t0.5\t0.25\t0.02847\n",
            "4 \t0.25\t0.5\t0.375\t-0.01251\n",
            "5 \t0.25\t0.375\t0.3125\t-0.005885\n",
            "6 \t0.25\t0.3125\t0.2812\t-0.002547\n",
            "7 \t0.25\t0.2812\t0.2656\t-0.0008703\n",
            "8 \t0.25\t0.2656\t0.2578\t-3.036e-05\n",
            "9 \t0.25\t0.2578\t0.2539\t0.0003901\n",
            "10 \t0.2539\t0.2578\t0.2559\t8.65e-05\n",
            "11 \t0.2559\t0.2578\t0.2568\t1.657e-05\n",
            "12 \t0.2568\t0.2578\t0.2573\t2.043e-06\n",
            "13 \t0.2573\t0.2578\t0.2576\t-1.12e-07\n",
            "14 \t0.2573\t0.2576\t0.2574\t2.471e-07\n",
            "15 \t0.2574\t0.2576\t0.2575\t2.754e-08\n",
            "16 \t0.2575\t0.2576\t0.2575\t-2.477e-09\n",
            "17 \t0.2575\t0.2575\t0.2575\t2.525e-09\n",
            "Su raiz es:  0.2575225830078125\n",
            "Grafica de la funcion \n"
          ]
        },
        {
          "output_type": "display_data",
          "data": {
            "text/plain": [
              "<Figure size 432x288 with 1 Axes>"
            ],
            "image/png": "[encoded data removed]"
          },
          "metadata": {
            "needs_background": "light"
          }
        }
      ],
      "source": [
        "from math import*\n",
        "from math import*\n",
        "import numpy as np\n",
        "import matplotlib.pyplot as plt\n",
        "from tabulate import tabulate\n",
        "from sympy import symbols\n",
        "from sympy import sympify\n",
        "from sympy import lambdify\n",
        "\n",
        "print('Metodo de Bisseccion\\n')\n",
        "ec=input('De la funcion a resolver: ')  \n",
        "a=float(input('de el extremo inferior del intervalo aproximado: '))\n",
        "b=float(input('de el extremo superior del intervalo aproximado: '))\n",
        "errordeseado=float(input('De el error deseado: '))\n",
        "crit = float(input('Tolerancia: '))\n",
        "x = symbols ('x')\n",
        "f = lambdify(x,ec)\n",
        "ea = 1\n",
        "x_anterior=0\n",
        "niter = 0\n",
        "def f(x):\n",
        "    return eval(ec)\n",
        "\n",
        "print(\"{0}\\t{1}\\t{2}\\t{3}\\t{4}\".format('n', 'a', 'b', 'Xr', 'f(Mx)f(a)'))\n",
        "while ea > crit:\n",
        "    xr = (a + b)/2\n",
        "    ea = abs((xr-x_anterior)/ xr)\n",
        "    niter += 1\n",
        "    cond = f(xr)*f(a)\n",
        "    print (niter, \"\\t{:.4}\\t{:.4}\\t{:.4}\\t{:.4}\".format(a, b, xr, cond))\n",
        "    if cond < 0:\n",
        "      b = xr\n",
        "    else:\n",
        "      a = xr\n",
        "      x_anterior = xr\n",
        "\n",
        "print('Su raiz es: ',xr)\n",
        "\n",
        "\n",
        "print('Grafica de la funcion ')\n",
        "x1 = np.linspace(-10,10)\n",
        "plt.plot(x1,f(x1))\n",
        "plt.scatter(xr,0,c=\"red\")\n",
        "plt.axvline(color=\"black\")\n",
        "plt.plot(x1, np.zeros(len(x1)), label=(\"0\"))\n",
        "plt.plot()\n",
        "plt.title('Grafica de la Funcion: ')\n",
        "plt.xlabel(\"x \")            \n",
        "plt.ylabel(\"y \")            \n",
        "plt.grid(True, which='both')\n",
        "plt.ylim([-15,15])\n",
        "plt.legend()                    \n",
        "plt.show()\n",
        "\n",
        "\n"
      ]
    }
  ]
}