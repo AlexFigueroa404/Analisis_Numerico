{
  "nbformat": 4,
  "nbformat_minor": 0,
  "metadata": {
    "colab": {
      "name": "FalsaPosicion1.ipynb",
      "provenance": [],
      "authorship_tag": "ABX9TyP0hwSuMFQSg5qLy7DT28/o",
      "include_colab_link": true
    },
    "kernelspec": {
      "name": "python3",
      "display_name": "Python 3"
    },
    "language_info": {
      "name": "python"
    }
  },
  "cells": [
    {
      "cell_type": "markdown",
      "metadata": {
        "id": "view-in-github",
        "colab_type": "text"
      },
      "source": [
        "<a href=\"https://colab.research.google.com/github/AlexFigueroa404/Analisis_Numerico/blob/Roberto/FalsaPosicion_Correcto.ipynb\" target=\"_parent\"><img src=\"https://colab.research.google.com/assets/colab-badge.svg\" alt=\"Open In Colab\"/></a>"
      ]
    },
    {
      "cell_type": "code",
      "execution_count": 2,
      "metadata": {
        "colab": {
          "base_uri": "https://localhost:8080/"
        },
        "id": "405wJBId4EcP",
        "outputId": "bf485411-ec7e-4576-8137-1f77a8673c0d"
      },
      "outputs": [
        {
          "output_type": "stream",
          "name": "stdout",
          "text": [
            "[[1, -0.5, 0, 0.5721116117042544, 0.5, 0.5721116117042544, 1], [2, -0.0721116117042544, 0.5721116117042544, 0.5672042239884945, 0.5, 0.5672042239884945, 0.8651888523064808], [3, -0.06720422398849446, 0.5672042239884945, 0.5671440382704861, 0.5, 0.5671440382704861, 0.010612069235868648]]\n"
          ]
        }
      ],
      "source": [
        "from math import *\n",
        "from numpy import *\n",
        "import cmath\n",
        "import math\n",
        "\n",
        "def f(x):\n",
        "    return e**(-x)-x\n",
        "\n",
        "def tolerancia(cifras):\n",
        "    return 0.5*math.pow(10,2-cifras)    \n",
        "\n",
        "def falsaPosicion(f,x_i,x_f,cifras):\n",
        "    Tabla = []\n",
        "    #headers = [\"Interacion\", \"x1\", \"xf\", \"xr\", \"fx\",\"fxr\",\"fxi*fxr\",\"Ea\"]\n",
        "    #Tabla.append(headers)\n",
        "    Ea = 1\n",
        "    contador = 0\n",
        "    anterior = 0\n",
        "    Xr = 0\n",
        "    # verificamos si existe alguna raíz dentro de los intervalos\n",
        "    if (f(x_i)*f(x_f) > 0):\n",
        "        # no existe raíz\n",
        "        print('No existe raíz')\n",
        "    else:\n",
        "        # comenzamos con el metodo iterativo\n",
        "        while Ea > tolerancia(cifras):\n",
        "            contador += 1\n",
        "            resta = x_i-x_f\n",
        "            # las funciones se deberian calcular en el mismo uso de la formula\n",
        "            anterior = Xr\n",
        "            Xr = x_i-((f(x_i)*resta)/(f(x_i)-f(x_f)))\n",
        "            if(contador == 1):\n",
        "                Ea = 1\n",
        "            else:\n",
        "                Ea = abs((Xr-anterior)/Xr)*100\n",
        "            if (f(Xr)*f(x_i) > 0):\n",
        "                \n",
        "                x_i = Xr\n",
        "            else:\n",
        "                x_f = Xr\n",
        "                Tabla.append([contador,resta,anterior,x_f,x_i,Xr,Ea,])             \n",
        "    return Tabla\n",
        "lista = falsaPosicion(f, 0.5, 1 ,3)\n",
        "print(lista)"
      ]
    }
  ]
}