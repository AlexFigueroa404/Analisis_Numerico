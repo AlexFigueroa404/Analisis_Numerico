{
  "nbformat": 4,
  "nbformat_minor": 0,
  "metadata": {
    "colab": {
      "name": "FalsaPosicion.ipynb",
      "provenance": [],
      "toc_visible": true,
      "authorship_tag": "ABX9TyPgzWhzSbFmh2dSO1yoRS7M",
      "include_colab_link": true
    },
    "kernelspec": {
      "name": "python3",
      "display_name": "Python 3"
    },
    "language_info": {
      "name": "python"
    }
  },
  "cells": [
    {
      "cell_type": "markdown",
      "metadata": {
        "id": "view-in-github",
        "colab_type": "text"
      },
      "source": [
        "<a href=\"https://colab.research.google.com/github/AlexFigueroa404/Analisis_Numerico/blob/Roberto/FalsaPosicion.ipynb\" target=\"_parent\"><img src=\"https://colab.research.google.com/assets/colab-badge.svg\" alt=\"Open In Colab\"/></a>"
      ]
    },
    {
      "cell_type": "code",
      "execution_count": 1,
      "metadata": {
        "colab": {
          "base_uri": "https://localhost:8080/"
        },
        "id": "SjmKCRXbNmR5",
        "outputId": "963af30f-8753-42dc-c273-fb620184a0e5"
      },
      "outputs": [
        {
          "output_type": "stream",
          "name": "stdout",
          "text": [
            "[[1, -0.8, 0.5957181782924568, 0.2, 0.5957181782924568, 1], [2, -0.39571817829245676, 0.5691384352987858, 0.2, 0.5691384352987858, 4.670171850143476], [3, -0.3691384352987858, 0.567283086095986, 0.2, 0.567283086095986, 0.3270587909765228], [4, -0.367283086095986, 0.5671530880048814, 0.2, 0.5671530880048814, 0.022921164294792573]]\n"
          ]
        }
      ],
      "source": [
        "from math import *\n",
        "from numpy import *\n",
        "import cmath\n",
        "import math\n",
        "\n",
        "def f(x):\n",
        "    return e**(-x)-x\n",
        "\n",
        "def tolerancia(cifras):\n",
        "    return 0.5*math.pow(10,2-cifras)    \n",
        "\n",
        "def falsaPosicion(x_i, x_f,cifras):\n",
        "    Tabla = []\n",
        "    #headers = [\"Interacion\", \"x1\", \"xf\", \"xr\", \"fx\",\"fxr\",\"fxi*fxr\",\"Ea\"]\n",
        "    #Tabla.append(headers)\n",
        "    Ea = 1\n",
        "    contador = 0\n",
        "    anterior = 0\n",
        "    Xr = 0\n",
        "    # verificamos si existe alguna raíz dentro de los intervalos\n",
        "    if (f(x_i)*f(x_f) > 0):\n",
        "        # no existe raíz\n",
        "        print('No existe raíz')\n",
        "    else:\n",
        "        # comenzamos con el metodo iterativo\n",
        "        while Ea > tolerancia(cifras):\n",
        "            contador += 1\n",
        "            resta = x_i-x_f\n",
        "            # las funciones se deberian calcular en el mismo uso de la formula\n",
        "            anterior = Xr\n",
        "            Xr = x_i-((f(x_i)*resta)/(f(x_i)-f(x_f)))\n",
        "            if(contador == 1):\n",
        "                Ea = 1\n",
        "            else:\n",
        "                Ea = abs((Xr-anterior)/Xr)*100\n",
        "            if (f(Xr)*f(x_i) > 0):\n",
        "                \n",
        "                x_i = Xr\n",
        "            else:\n",
        "                x_f = Xr\n",
        "                Tabla.append([contador,resta,x_f,x_i,Xr,Ea,])             \n",
        "    return Tabla\n",
        "lista = falsaPosicion(0.2, 1 ,3)\n",
        "print(lista)\n",
        "#print(tabulate(lista, headers=[\"Interacion\", \"x1\", \"xf\", \"xr\", \"fx\",\"fxr\",\"fxi*fxr\",\"Ea\"],tablefmt=\"github\"))\n",
        "\n"
      ]
    }
  ]
}