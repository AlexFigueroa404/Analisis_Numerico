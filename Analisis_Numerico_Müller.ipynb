{
 "cells": [
  {
   "cell_type": "code",
   "execution_count": 1,
   "id": "36f4cf69",
   "metadata": {},
   "outputs": [],
   "source": [
    "import cmath\n",
    "import math"
   ]
  },
  {
   "cell_type": "code",
   "execution_count": 22,
   "id": "f045bece",
   "metadata": {},
   "outputs": [],
   "source": [
    "def fx(x):\n",
    "# real\n",
    "#     return x**3-13*x-12 \n",
    "# imaginario\n",
    "    return x**3-2*x**2-5"
   ]
  },
  {
   "cell_type": "code",
   "execution_count": 3,
   "id": "053bad8b",
   "metadata": {},
   "outputs": [],
   "source": [
    "def tolerancia(cifras):\n",
    "    return 0.5*math.pow(10,2-cifras)"
   ]
  },
  {
   "cell_type": "code",
   "execution_count": 4,
   "id": "c5ecfbd3",
   "metadata": {},
   "outputs": [],
   "source": [
    "def errorAproximacion(valorActual,valorAnterior):\n",
    "    return abs((valorActual - valorAnterior)/(valorActual))*100"
   ]
  },
  {
   "cell_type": "code",
   "execution_count": 21,
   "id": "d6546951",
   "metadata": {
    "scrolled": true
   },
   "outputs": [
    {
     "name": "stdout",
     "output_type": "stream",
     "text": [
      "[[1, (2.875-0.9321965375474127j), (2.875+0.9321965375474127j)], [2, (2.090755349391372-0.8472596688604509j), (2.090755349391372+0.8472596688604509j)], [3, (1.1242152071646834-0.6912270163740575j), (1.1242152071646834+0.6912270163740575j)], [4, (0.21964208334688462-0.6863189290420864j), (0.21964208334688462+0.6863189290420864j)], [5, (-0.46370698000485455-0.9344016378518716j), (-0.46370698000485455+0.9344016378518716j)], [6, (-0.3831016976158831-1.3859058986519268j), (-0.3831016976158831+1.3859058986519268j)], [7, (-0.34606501703344666-1.3157443070567165j), (-0.34606501703344666+1.3157443070567165j)], [8, (-0.3453338256129918-1.3187227169214462j), (-0.3453338256129918+1.3187227169214462j)], [9, (-0.34532372427212704-1.3187267797155222j), (-0.34532372427212704+1.3187267797155222j)]]\n"
     ]
    }
   ],
   "source": [
    "def muller(f,valor1,valor2,valor3,cifras):\n",
    "    iteracion = 1\n",
    "    tabla = []\n",
    "#     encabezado = [\"Iteracion\", \"X0\", \"X1\", \"X2\",\"f(x0)\",\"f(x1)\",\"f(x2)\",\"A\",\"B\",\"C\",\"xr\",\"Ea\"]\n",
    "#     tabla.append(encabezado)\n",
    "    x0,x1,x2 = float(valor1),float(valor2),float(valor3)\n",
    "    Ea = 1\n",
    "    while Ea > tolerancia(cifras):\n",
    "        h0 = x1 - x0\n",
    "        h1 = x2 - x1\n",
    "        fx0,fx1,fx2 = f(x0),f(x1),f(x2)\n",
    "        ampersand0 = (fx1-fx0)/(x1-x0)\n",
    "        ampersand1 = (fx2-fx1)/(x2-x1)\n",
    "        a = (ampersand1 - ampersand0)/(h1+h0)\n",
    "        b = a*h1+ampersand1\n",
    "        c = fx2\n",
    "        \n",
    "        delta = cmath.sqrt(b**2-4*(a*c))\n",
    "           \n",
    "        if abs(b+delta) > abs(b-delta):\n",
    "            xr = x2 + ((-2*c)/(b+delta))\n",
    "        else:\n",
    "            xr = x2 + ((-2*c)/(b-delta))\n",
    "        \n",
    "        if xr.imag == 0j:\n",
    "            xr = xr.real\n",
    "            Ea = errorAproximacion(xr,x2)\n",
    "            tabla.append([iteracion,x0,x1,x2,fx0,fx1,fx2,a,b,c,xr,Ea])\n",
    "        else:\n",
    "            Ea = errorAproximacion(xr,x2)\n",
    "            tabla.append([iteracion,xr,complex(xr.real,-xr.imag)])\n",
    "            \n",
    "        \n",
    "        \n",
    "        \n",
    "        x0 = x1\n",
    "        x1 = x2\n",
    "        x2 = xr\n",
    "        iteracion+=1\n",
    "    return tabla\n",
    "\n",
    "# real\n",
    "lista = muller(fx,4.5,5.5,5,4) \n",
    "# imaginario\n",
    "# lista = muller(fx,-1,0,1,4) \n",
    "print(lista)"
   ]
  }
 ],
 "metadata": {
  "kernelspec": {
   "display_name": "Python 3 (ipykernel)",
   "language": "python",
   "name": "python3"
  },
  "language_info": {
   "codemirror_mode": {
    "name": "ipython",
    "version": 3
   },
   "file_extension": ".py",
   "mimetype": "text/x-python",
   "name": "python",
   "nbconvert_exporter": "python",
   "pygments_lexer": "ipython3",
   "version": "3.10.4"
  }
 },
 "nbformat": 4,
 "nbformat_minor": 5
}
