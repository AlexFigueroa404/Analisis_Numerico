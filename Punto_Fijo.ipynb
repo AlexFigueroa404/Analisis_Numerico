{
  "nbformat": 4,
  "nbformat_minor": 0,
  "metadata": {
    "colab": {
      "name": "Punto_Fijo.ipynb",
      "provenance": [],
      "authorship_tag": "ABX9TyOgQs79X65J0RhD1WniElFs",
      "include_colab_link": true
    },
    "kernelspec": {
      "name": "python3",
      "display_name": "Python 3"
    },
    "language_info": {
      "name": "python"
    }
  },
  "cells": [
    {
      "cell_type": "markdown",
      "metadata": {
        "id": "view-in-github",
        "colab_type": "text"
      },
      "source": [
        "<a href=\"https://colab.research.google.com/github/AlexFigueroa404/Analisis_Numerico/blob/Roberto/Punto_Fijo.ipynb\" target=\"_parent\"><img src=\"https://colab.research.google.com/assets/colab-badge.svg\" alt=\"Open In Colab\"/></a>"
      ]
    },
    {
      "cell_type": "code",
      "execution_count": 1,
      "metadata": {
        "colab": {
          "base_uri": "https://localhost:8080/"
        },
        "id": "ob77PAejP_O0",
        "outputId": "24d58579-433f-4e23-95ee-2c1ac05ee512"
      },
      "outputs": [
        {
          "output_type": "stream",
          "name": "stdout",
          "text": [
            "[[2, 0.447981645431607, 0.447981645431607, 346.446862364886], [3, 0.137751342121649, 0.137751342121649, 225.210367123677], [4, 0.126187838679347, 0.126187838679347, 9.16372256100327], [5, 0.125996530556022, 0.125996530556022, 0.151836024754609], [6, 0.125993507264784, 0.125993507264784, 0.00239956113896223]]\n"
          ]
        }
      ],
      "source": [
        "import math\n",
        "from numpy import *\n",
        "import numpy as np\n",
        "from sympy import *\n",
        "\n",
        "\n",
        "def tolerancia(cifras):\n",
        "    return 0.5*math.pow(10,2-cifras) \n",
        "\n",
        "# funcion g(x) evaluada\n",
        "def g_evaluada(x):\n",
        "    pi = np.pi\n",
        "    return (pow(x,2)-cos(x+pi))/8\n",
        "\n",
        "# derivada de la funcion g(x) en un punto inicial\n",
        "\n",
        "def g_prima():  # solo lo utilizare para saber si existe raíz\n",
        "    x = symbols(('x'))\n",
        "    a = math.radians(np.pi+2) # linea de mas \n",
        "    valor = (pow(x,2)-cos(x+np.pi))/8\n",
        "    derivada = diff(valor, x)  # derivanda\n",
        "    #print (\"convergencia : \",derivada.subs(x, 2))\n",
        "    return derivada.subs(x, 2)\n",
        "\n",
        "\n",
        "def punto_fijo(g_evaluada, x_i, cifras):\n",
        "    tabla = []\n",
        "    #headers = [\"Interacion\", \"X\", \"g(x)\",\"Ea\"]\n",
        "    #Tabla.append(headers)\n",
        "    iteracion = 0\n",
        "    Ea = 100\n",
        "    act = 0\n",
        "    ant = 0 \n",
        "    gx = None \n",
        "    if(g_prima() <= 1):\n",
        "        # si existe por lo tanto seguimos proceso\n",
        "        while Ea > tolerancia(cifras):\n",
        "            iteracion += 1\n",
        "            if (iteracion == 1):\n",
        "                Ea = 100\n",
        "            else:\n",
        "                ant = act\n",
        "                act = g_evaluada(x_i)\n",
        "                gx = g_evaluada(x_i)\n",
        "                Ea = abs((act-x_i)/act)*100\n",
        "\n",
        "                x_i = act\n",
        "                tabla.append([iteracion, x_i, gx, Ea])\n",
        "    else:\n",
        "        print(\"la raíz no existe\")\n",
        "    return tabla   \n",
        "lista = punto_fijo(g_evaluada, 2, 3)\n",
        "print(lista)"
      ]
    }
  ]
}